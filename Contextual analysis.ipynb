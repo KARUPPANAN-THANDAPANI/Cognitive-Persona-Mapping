{
 "cells": [
  {
   "cell_type": "code",
   "execution_count": null,
   "id": "0583406e-f99e-4ec2-b731-09d32240dd04",
   "metadata": {},
   "outputs": [
    {
     "name": "stderr",
     "output_type": "stream",
     "text": [
      "Device set to use cpu\n"
     ]
    },
    {
     "name": "stdout",
     "output_type": "stream",
     "text": [
      "🤖 Emotion-Aware Chatbot is ready. Type 'exit' to quit.\n",
      "\n"
     ]
    },
    {
     "name": "stdin",
     "output_type": "stream",
     "text": [
      "You:  hi\n"
     ]
    },
    {
     "name": "stdout",
     "output_type": "stream",
     "text": [
      "🧠 Emotion: neutral (0.91)\n",
      "Bot: Hi there! How are you feeling today?\n",
      "\n"
     ]
    },
    {
     "name": "stdin",
     "output_type": "stream",
     "text": [
      "You:  today i feel very sad\n"
     ]
    },
    {
     "name": "stdout",
     "output_type": "stream",
     "text": [
      "🧠 Emotion: sadness (0.99)\n",
      "Bot: I'm really sorry you're feeling this way. Want to talk more about it?\n",
      "\n"
     ]
    },
    {
     "name": "stdin",
     "output_type": "stream",
     "text": [
      "You:  yes\n"
     ]
    },
    {
     "name": "stdout",
     "output_type": "stream",
     "text": [
      "🧠 Emotion: neutral (0.85)\n",
      "Bot: Thanks for sharing. I'm here to listen.\n",
      "\n"
     ]
    },
    {
     "name": "stdin",
     "output_type": "stream",
     "text": [
      "You:  today my frnds teased me very badly can you help me how to tackle it\n"
     ]
    },
    {
     "name": "stdout",
     "output_type": "stream",
     "text": [
      "🧠 Emotion: sadness (0.52)\n",
      "Bot: I'm really sorry you're feeling this way. Want to talk more about it?\n",
      "\n"
     ]
    },
    {
     "name": "stdin",
     "output_type": "stream",
     "text": [
      "You:  help me to tackle it\n"
     ]
    },
    {
     "name": "stdout",
     "output_type": "stream",
     "text": [
      "🧠 Emotion: neutral (0.79)\n",
      "Bot: I can help you tackle this. Can you share more details?\n",
      "\n"
     ]
    },
    {
     "name": "stdin",
     "output_type": "stream",
     "text": [
      "You:  yes\n"
     ]
    },
    {
     "name": "stdout",
     "output_type": "stream",
     "text": [
      "🧠 Emotion: neutral (0.85)\n",
      "Bot: Thanks for sharing. I'm here to listen.\n",
      "\n"
     ]
    }
   ],
   "source": [
    "from transformers import pipeline\n",
    "import pandas as pd\n",
    "import matplotlib.pyplot as plt\n",
    "import seaborn as sns\n",
    "from datetime import datetime\n",
    "\n",
    "# Load emotion classifier\n",
    "emotion_classifier = pipeline(\"text-classification\", model=\"j-hartmann/emotion-english-distilroberta-base\", top_k=None)\n",
    "\n",
    "joy_contexts = {\n",
    "    \"stipend\": \"That's awesome! A 10K stipend is a great reward for your hard work.\",\n",
    "    \"promotion\": \"Congratulations on your promotion! You deserve it.\",\n",
    "    \"vacation\": \"Sounds like a fun getaway! Where are you headed?\",\n",
    "    \"birthday\": \"Happy birthday! Hope you're celebrating in style.\",\n",
    "    \"achievement\": \"Well done! Achievements like this are worth celebrating.\"\n",
    "}\n",
    "\n",
    "sadness_contexts = {\n",
    "    \"lost job\": \"I'm really sorry to hear that. Losing a job can be incredibly tough.\",\n",
    "    \"breakup\": \"Heartbreak is painful. I'm here if you want to talk.\",\n",
    "    \"lonely\": \"Feeling alone can be hard. You're not alone right now.\",\n",
    "    \"failed\": \"Failure hurts, but it doesn’t define you. Let's figure out what’s next.\",\n",
    "    \"miss someone\": \"Missing someone shows how deeply you care. Want to share more?\"\n",
    "}\n",
    "\n",
    "anger_contexts = {\n",
    "    \"delay\": \"That sounds frustrating. Delays can really throw things off.\",\n",
    "    \"unfair\": \"Feeling treated unfairly is deeply upsetting. I hear you.\",\n",
    "    \"argument\": \"Arguments can leave us shaken. Want to unpack what happened?\",\n",
    "    \"ignored\": \"Being ignored hurts. You deserve to be heard.\",\n",
    "    \"cancelled\": \"Plans falling through can be maddening. What happened?\"\n",
    "}\n",
    "\n",
    "fear_contexts = {\n",
    "    \"dark\": \"Fear of the dark is more common than you think. You're safe here.\",\n",
    "    \"exam\": \"Exams can be stressful. Let’s take it one step at a time.\",\n",
    "    \"future\": \"Uncertainty about the future is natural. You're not alone in this.\",\n",
    "    \"health\": \"Health worries can be overwhelming. Want to talk about it?\",\n",
    "    \"alone\": \"Feeling unsafe alone is valid. I'm here with you.\"\n",
    "}\n",
    "surprise_contexts = {\n",
    "    \"unexpected\": \"That must have caught you off guard! What happened?\",\n",
    "    \"gift\": \"A surprise gift? That’s exciting! Who gave it to you?\",\n",
    "    \"visit\": \"Surprise visits can be delightful or chaotic. Which was it?\",\n",
    "    \"news\": \"Unexpected news can shake things up. Want to share more?\",\n",
    "    \"result\": \"Surprising results? Tell me what happened!\"\n",
    "}\n",
    "\n",
    "neutral_contexts = {\n",
    "    \"hi\": \"Hi there! How are you feeling today?\",\n",
    "    \"hello\": \"Hello! I'm here to chat whenever you're ready.\",\n",
    "    \"okay\": \"Got it. Let me know if there's anything you'd like to talk about.\",\n",
    "    \"fine\": \"Alright. I'm here if you want to share more.\",\n",
    "    \"nothing\": \"That's okay. Sometimes silence says a lot.\",\n",
    "    \"how to\": \"Let's break it down together. What exactly are you trying to solve?\",\n",
    "    \"tackle\": \"I can help you tackle this. Can you share more details?\",\n",
    "    \"handle\": \"Handling tough situations takes strength. I'm here to support you.\",\n",
    "    \"solve\": \"Let’s work through it step by step. What’s the challenge?.\"\n",
    "\n",
    "}\n",
    "\n",
    "# Generate bot response based on emotion\n",
    "def generate_bot_response(emotion, user_text):\n",
    "    user_text_lower = user_text.lower()\n",
    "    def match_context(context_dict):\n",
    "        for keyword, reply in context_dict.items():\n",
    "            if keyword in user_text_lower:\n",
    "                return reply\n",
    "        return None\n",
    "    emotion_contexts = {\n",
    "        \"joy\" : joy_contexts,\n",
    "        \"sadness\": sadness_contexts,\n",
    "        \"anger\": anger_contexts,\n",
    "        \"fear\": fear_contexts,\n",
    "        \"surprsie\": surprise_contexts,\n",
    "        \"neutral\": neutral_contexts}\n",
    "    if emotion in emotion_contexts:\n",
    "        context_reply = match_context(emotion_contexts[emotion])\n",
    "        if context_reply:\n",
    "            return context_reply\n",
    "        fallback_responses = {\n",
    "        \"joy\": \"That's wonderful to hear! What made you feel so happy?\",\n",
    "        \"sadness\": \"I'm really sorry you're feeling this way. Want to talk more about it?\",\n",
    "        \"anger\": \"I hear your frustration. Let's work through it together.\",\n",
    "        \"fear\": \"That sounds scary. I'm here with you — you're safe.\",\n",
    "        \"surprise\": \"Wow, that’s unexpected! Tell me more.\",\n",
    "        \"neutral\": \"Thanks for sharing. I'm here to listen.\"\n",
    "    }\n",
    "    return fallback_responses.get(emotion, \"I'm here for you. Let's talk.\")\n",
    "def analyze_emotion(text):\n",
    "    result = emotion_classifier(text)[0]\n",
    "    top = max(result, key=lambda x: x['score'])\n",
    "    return top['label'], top['score']\n",
    "\n",
    "# Initialize conversation log\n",
    "conversation_log = []\n",
    "\n",
    "print(\"🤖 Emotion-Aware Chatbot is ready. Type 'exit' to quit.\\n\")\n",
    "\n",
    "# Runtime loop\n",
    "while True:\n",
    "    user_input = input(\"You: \")\n",
    "    if user_input.lower() == \"exit\":\n",
    "        print(\"Bot: Take care! I'm always here if you need me.\")\n",
    "        break\n",
    "\n",
    "    # Analyze user emotion\n",
    "    emotion, score = analyze_emotion(user_input)\n",
    "    timestamp = datetime.now()\n",
    "\n",
    "    # Log user message\n",
    "    conversation_log.append({\n",
    "        \"timestamp\": timestamp,\n",
    "        \"sender\": \"user\",\n",
    "        \"text\": user_input,\n",
    "        \"emotion\": emotion,\n",
    "        \"confidence\": round(score, 3)\n",
    "    })\n",
    "\n",
    "    # Generate bot reply\n",
    "    bot_reply = generate_bot_response(emotion, user_input)\n",
    "    print(f\"🧠 Emotion: {emotion} ({score:.2f})\")\n",
    "    print(f\"Bot: {bot_reply}\\n\")\n",
    "\n",
    "    # Log bot message\n",
    "    conversation_log.append({\n",
    "        \"timestamp\": datetime.now(),\n",
    "        \"sender\": \"bot\",\n",
    "        \"text\": bot_reply,\n",
    "        \"emotion\": \"neutral\",\n",
    "        \"confidence\": 1.0\n",
    "    })\n",
    "\n",
    "# Convert log to DataFrame\n",
    "df = pd.DataFrame(conversation_log)\n",
    "\n",
    "# Engagement score\n",
    "user_msgs = df[df['sender'] == 'user']\n",
    "engagement_score = len(user_msgs) / len(df)\n",
    "\n",
    "# Response effectiveness\n",
    "effectiveness = []\n",
    "for i in range(1, len(df) - 1):\n",
    "    if df.iloc[i]['sender'] == 'bot' and df.iloc[i + 1]['sender'] == 'user':\n",
    "        before = df.iloc[i - 1]['emotion']\n",
    "        after = df.iloc[i + 1]['emotion']\n",
    "        effectiveness.append((before, after))\n",
    "\n",
    "# Emotional pattern plot\n",
    "plt.figure(figsize=(10, 4))\n",
    "sns.lineplot(data=df, x=df.index, y=\"confidence\", hue=\"emotion\", style=\"sender\", markers=True)\n",
    "plt.title(\"Emotional Pattern Over Conversation\")\n",
    "plt.xlabel(\"Message Index\")\n",
    "plt.ylabel(\"Emotion Confidence\")\n",
    "plt.xticks(df.index, df['sender'] + \": \" + df['emotion'], rotation=45)\n",
    "plt.tight_layout()\n",
    "plt.grid(True)\n",
    "plt.show()\n",
    "\n",
    "# Summary\n",
    "print(\"\\n📊 Conversation Summary:\")\n",
    "print(df[['sender', 'text', 'emotion', 'confidence']])\n",
    "print(f\"\\n🔁 User Engagement Score: {engagement_score:.2f}\")\n",
    "print(f\"✅ Response Effectiveness Samples: {effectiveness}\")"
   ]
  },
  {
   "cell_type": "code",
   "execution_count": null,
   "id": "d76891a2-9f81-4ba0-8253-246ca74ab644",
   "metadata": {},
   "outputs": [],
   "source": []
  }
 ],
 "metadata": {
  "kernelspec": {
   "display_name": "Python 3 (ipykernel)",
   "language": "python",
   "name": "python3"
  },
  "language_info": {
   "codemirror_mode": {
    "name": "ipython",
    "version": 3
   },
   "file_extension": ".py",
   "mimetype": "text/x-python",
   "name": "python",
   "nbconvert_exporter": "python",
   "pygments_lexer": "ipython3",
   "version": "3.13.7"
  }
 },
 "nbformat": 4,
 "nbformat_minor": 5
}
